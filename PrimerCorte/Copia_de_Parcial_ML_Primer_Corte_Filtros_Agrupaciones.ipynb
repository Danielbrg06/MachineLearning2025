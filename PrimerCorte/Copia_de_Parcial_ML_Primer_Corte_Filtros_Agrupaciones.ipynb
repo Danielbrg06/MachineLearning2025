{
  "cells": [
    {
      "cell_type": "markdown",
      "id": "0d026f17",
      "metadata": {
        "id": "0d026f17"
      },
      "source": [
        "# Parcial 1 · Machine Learning (Primer Corte)\n",
        "**Formato:** Notebook de Python (Colab/Jupyter)\n",
        "\n",
        "**Instrucciones**\n",
        "- Responde directamente en las celdas indicadas con *Tu respuesta aquí*.\n",
        "- No borres el enunciado de las preguntas.\n",
        "- No uses gráficos; solo filtros, agrupaciones y cálculos básicos.\n",
        "- Mantén el código y comentarios en **español**.\n",
        "- **Entrega**: sube este `.ipynb` resuelto a la plataforma indicada.\n",
        "\n",
        "**Dataset esperado (`students.csv`)**\n",
        "Columnas: `gender, race/ethnicity, parental level of education, lunch, test preparation course, math score, reading score, writing score`.\n",
        "\n",
        "**Estructura del parcial**\n",
        "- **Sección A — Fundamentos (6 preguntas)**\n",
        "- **Sección B — EDA con filtros y agrupaciones (6 preguntas)**\n",
        "\n",
        "**Puntaje**: 100 puntos (≈ 8.3 por pregunta).\n",
        "\n",
        "---"
      ]
    },
    {
      "cell_type": "code",
      "execution_count": 1,
      "id": "7edbe5e7",
      "metadata": {
        "id": "7edbe5e7",
        "colab": {
          "base_uri": "https://localhost:8080/"
        },
        "outputId": "03639523-9f26-4bcd-c7ea-1cae810f629e"
      },
      "outputs": [
        {
          "output_type": "stream",
          "name": "stdout",
          "text": [
            "--2025-09-17 20:47:28--  https://raw.githubusercontent.com/javierherrera1996/lecture_analytics/main/StudentsPerformance.csv\n",
            "Resolving raw.githubusercontent.com (raw.githubusercontent.com)... 185.199.108.133, 185.199.109.133, 185.199.110.133, ...\n",
            "Connecting to raw.githubusercontent.com (raw.githubusercontent.com)|185.199.108.133|:443... connected.\n",
            "HTTP request sent, awaiting response... 200 OK\n",
            "Length: 72036 (70K) [text/plain]\n",
            "Saving to: ‘StudentsPerformance.csv’\n",
            "\n",
            "\rStudentsPerformance   0%[                    ]       0  --.-KB/s               \rStudentsPerformance 100%[===================>]  70.35K  --.-KB/s    in 0.02s   \n",
            "\n",
            "2025-09-17 20:47:28 (3.11 MB/s) - ‘StudentsPerformance.csv’ saved [72036/72036]\n",
            "\n"
          ]
        }
      ],
      "source": [
        "!wget https://raw.githubusercontent.com/javierherrera1996/lecture_analytics/main/StudentsPerformance.csv"
      ]
    },
    {
      "cell_type": "markdown",
      "id": "cb60e77d",
      "metadata": {
        "id": "cb60e77d"
      },
      "source": [
        "### Dependencias (ejecuta esta celda primero)"
      ]
    },
    {
      "cell_type": "code",
      "execution_count": 2,
      "id": "34635d2a",
      "metadata": {
        "id": "34635d2a"
      },
      "outputs": [],
      "source": [
        "import pandas as pd\n",
        "import numpy as np"
      ]
    },
    {
      "cell_type": "markdown",
      "id": "f8613aea",
      "metadata": {
        "id": "f8613aea"
      },
      "source": [
        "## Carga del dataset\n",
        "Sube un archivo **`students.csv`** (mismo directorio del notebook) o ajusta la ruta en la celda. Si no tienes el archivo, puedes **generar una muestra mínima** con la celda opcional.\n"
      ]
    },
    {
      "cell_type": "code",
      "execution_count": 3,
      "id": "06f6c5f4",
      "metadata": {
        "id": "06f6c5f4"
      },
      "outputs": [],
      "source": [
        "df = pd.read_csv(\"StudentsPerformance.csv\")"
      ]
    },
    {
      "cell_type": "markdown",
      "id": "93ebf254",
      "metadata": {
        "id": "93ebf254"
      },
      "source": [
        "#### (Opcional) Generar una muestra mínima si no tienes el CSV"
      ]
    },
    {
      "cell_type": "code",
      "execution_count": null,
      "id": "8a77cd91",
      "metadata": {
        "id": "8a77cd91"
      },
      "outputs": [],
      "source": []
    },
    {
      "cell_type": "markdown",
      "id": "b05fd9f0",
      "metadata": {
        "id": "b05fd9f0"
      },
      "source": [
        "## Sección A — Fundamentos de Machine Learning (Conceptual, sin métricas ni gráficos)"
      ]
    },
    {
      "cell_type": "markdown",
      "id": "f84a0d9b",
      "metadata": {
        "id": "f84a0d9b"
      },
      "source": [
        "### A1. Supervisado vs No Supervisado\n",
        "**Describe** con tus palabras la diferencia entre **aprendizaje supervisado** y **no supervisado**. Da **1 ejemplo** de cada uno aplicado a educación o negocios.\n",
        "\n",
        "_Tu respuesta aquí (Markdown):_\n",
        "\n",
        "**Aprendizaje Supervisado:** Se le entregan unos datos ya “Etiquetados” y la maquina va a aprender de estos patrones. Se le da un Feedback, si esta bien o no. Ejemplo: Un banco usa datos de clientes pasados (quién pagó y quién no pagó un préstamo) para entrenar un modelo que prediga si un nuevo cliente pagará o no.\n",
        "\n",
        "**Aprendizaje No Supervisado:** Se le entregan los datos, pero ya no tiene el feedback, sino que la maquina aprende por medio de patrones teniendo en cuenta las caracteristicas que se le entregaron. Ejemplo: una tienda deja que un programa agrupe solo a sus clientes. Descubre que hay grupos distintos: unos compran barato, otros prefieren lo más caro, y otros solo en promociones, asi pueden ir definiendo que les gusta a sus clientes\n",
        "\n"
      ]
    },
    {
      "cell_type": "markdown",
      "id": "075d0640",
      "metadata": {
        "id": "075d0640"
      },
      "source": [
        "### A2. Variable dependiente e independientes\n",
        "Si queremos predecir `math score`, ¿cuál es la **variable dependiente**? Menciona **dos** posibles **variables independientes** justificando por qué.\n",
        "\n",
        "_Tu respuesta aquí (Markdown):_\n",
        "\n",
        "Debido a que el resultado que queremos explicar o predecir es Math Score esa serua la variable dependiente\n",
        "\n",
        "**Variables Independientes:** El test de preparacion para los examenes, ya que hacer o no un curso de preparación puede influir directamente en el desempeño académico. y El nivel de estudio de los padres ya que si estos tienen niveles mas altos puden ayudar al hijo\n"
      ]
    },
    {
      "cell_type": "markdown",
      "id": "42cc723f",
      "metadata": {
        "id": "42cc723f"
      },
      "source": [
        "### A3. Clasificación binaria\n",
        "Si clasificamos estudiantes en **Aprobado** (≥ 60) vs **No aprobado**, ¿qué tipo de aprendizaje es? Justifica brevemente.\n",
        "\n",
        "_Tu respuesta aquí (Markdown):_\n",
        "\n",
        "Seria aprendizaje supervisado ya que se le estarian entregando las etiquetas al programa y como identificarlas. El programa aprenderia a predecir en que grupo caeran los estudiantes"
      ]
    },
    {
      "cell_type": "code",
      "source": [],
      "metadata": {
        "id": "bClGZAnYf6ii"
      },
      "id": "bClGZAnYf6ii",
      "execution_count": null,
      "outputs": []
    },
    {
      "cell_type": "markdown",
      "id": "bf02bab8",
      "metadata": {
        "id": "bf02bab8"
      },
      "source": [
        "### A4. Casos de negocio (supervisado)\n",
        "Da **dos** ejemplos de problemas de negocio donde usarías aprendizaje **supervisado** y explica por qué.\n",
        "\n",
        "_Tu respuesta aquí (Markdown):_\n",
        "\n",
        "1. Predescir si un cliente pagaria un prestamo o no, ya que teneindo en cuenta los datos previos de otros clientes, el modelo aprende a reconocer los patrones y predecir si pagaran o no\n",
        "\n",
        "2. Predecir si un producto nuevo trendra buena o mala reseña, ya que el modelo se peude entrenar con reseñas anterioress que esten clasificadas como buenas o malas"
      ]
    },
    {
      "cell_type": "markdown",
      "id": "feef5edc",
      "metadata": {
        "id": "feef5edc"
      },
      "source": [
        "### A5. Casos de negocio (no supervisado)\n",
        "Da **dos** ejemplos de problemas de negocio donde usarías aprendizaje **no supervisado** y explica por qué.\n",
        "\n",
        "_Tu respuesta aquí (Markdown):_\n",
        "\n",
        "1. Segmentacion de clientes en una tienda, es no supervisado ya que aunque tenemos datos de los clientes no los tenemos agrupados o no sabemos a que grupo pertenecen asi que el modelo encuentra patrones y los va agrupando\n",
        "\n",
        "2. La deteccion de anomalias en transacciones bancarias ya que se tiene la informacion de las transacciones pero no la clseificacion de Buena o mala, asi que el modelo aprede a identificar los movimientos extraños que podrian ser fraude"
      ]
    },
    {
      "cell_type": "markdown",
      "id": "33f2b6fd",
      "metadata": {
        "id": "33f2b6fd"
      },
      "source": [
        "### A6. Segmentación por similitud\n",
        "Si quieres segmentar estudiantes por similitud de `reading score` y `writing score`, ¿qué tipo de aprendizaje usarías y por qué?\n",
        "\n",
        "_Tu respuesta aquí (Markdown):_\n",
        "\n",
        "Seria aprendizaje no supervisado ya que se tienen los datos de los estudiantes pero no estan clasificados y el modelo los agruparia segun su similitud de puntajes"
      ]
    },
    {
      "cell_type": "markdown",
      "id": "b7f594ed",
      "metadata": {
        "id": "b7f594ed"
      },
      "source": [
        "## Sección B — EDA (solo filtros y agrupaciones, foco de negocio)"
      ]
    },
    {
      "cell_type": "markdown",
      "id": "f60a6103",
      "metadata": {
        "id": "f60a6103"
      },
      "source": [
        "### B7. Promedio de matemáticas por género\n",
        "Calcula el **promedio de `math score` por `gender`**.\n",
        "- ¿Qué género tiene mejor promedio?\n",
        "- **Conclusión de negocio**: en 1–2 líneas, ¿qué harías con esta información?\n",
        "\n",
        "_Escribe tu código y comentarios:_"
      ]
    },
    {
      "cell_type": "code",
      "execution_count": 21,
      "id": "34e84ef6",
      "metadata": {
        "id": "34e84ef6",
        "colab": {
          "base_uri": "https://localhost:8080/"
        },
        "outputId": "e41b6254-e0c5-4daa-c6f3-ee8fec5f732f"
      },
      "outputs": [
        {
          "output_type": "stream",
          "name": "stdout",
          "text": [
            "gender\n",
            "male      68.728216\n",
            "female    63.633205\n",
            "Name: math score, dtype: float64\n"
          ]
        }
      ],
      "source": [
        "promedios = df.groupby(\"gender\")[\"math score\"].mean().sort_values(ascending=False)\n",
        "print(promedios)"
      ]
    },
    {
      "cell_type": "markdown",
      "source": [
        "Los hombres tienen mejor promedio. Con esta informacion se podria hacer un programa de refuerzo para las mujeres y que puedan subir y equilibrar el promedio con los hombres"
      ],
      "metadata": {
        "id": "SkOTPkKWihae"
      },
      "id": "SkOTPkKWihae"
    },
    {
      "cell_type": "markdown",
      "id": "5127174e",
      "metadata": {
        "id": "5127174e"
      },
      "source": [
        "### B8. Lectura por grupo étnico\n",
        "Calcula el **promedio de `reading score` por `race/ethnicity`**.\n",
        "- ¿Qué grupo tiene mejor desempeño?\n",
        "- **Aplicación**: ¿cómo usarías esto en un programa de apoyo escolar?\n",
        "\n",
        "_Escribe tu código y comentarios:_"
      ]
    },
    {
      "cell_type": "markdown",
      "source": [],
      "metadata": {
        "id": "x0-MdWfYn3xf"
      },
      "id": "x0-MdWfYn3xf"
    },
    {
      "cell_type": "code",
      "execution_count": 20,
      "id": "7fd591b9",
      "metadata": {
        "id": "7fd591b9",
        "colab": {
          "base_uri": "https://localhost:8080/"
        },
        "outputId": "7433e7d0-2312-4d75-c152-2b66a1e147f0"
      },
      "outputs": [
        {
          "output_type": "stream",
          "name": "stdout",
          "text": [
            "race/ethnicity\n",
            "group E    73.028571\n",
            "group D    70.030534\n",
            "group C    69.103448\n",
            "group B    67.352632\n",
            "group A    64.674157\n",
            "Name: reading score, dtype: float64\n"
          ]
        }
      ],
      "source": [
        "Pomedios = df.groupby(\"race/ethnicity\")[\"reading score\"].mean().sort_values(ascending=False)\n",
        "print(Pomedios)\n"
      ]
    },
    {
      "cell_type": "markdown",
      "source": [
        "El gupo que mejor desempeño tuvo fue el Grupo E con 73.028571"
      ],
      "metadata": {
        "id": "ViSMXE9LlKLH"
      },
      "id": "ViSMXE9LlKLH"
    },
    {
      "cell_type": "markdown",
      "source": [
        "Teniendo en cuenta estos resultados podria ponerle clases de apoyo en lectura a los grupos que obtuvieron menor puntaje como el A y el B. Buscando que mejoren su promedio y alcancen a los grupos con promedios mas altos"
      ],
      "metadata": {
        "id": "yYAQ1WZvkSOu"
      },
      "id": "yYAQ1WZvkSOu"
    },
    {
      "cell_type": "markdown",
      "id": "ec29181f",
      "metadata": {
        "id": "ec29181f"
      },
      "source": [
        "### B9. Impacto del tipo de almuerzo\n",
        "Filtra estudiantes con `lunch = free/reduced` y calcula el **promedio de `math score` y `reading score`**. Compáralo con `lunch = standard`.\n",
        "- **Conclusión de negocio**: ¿qué acción propones?\n",
        "\n",
        "_Escribe tu código y comentarios:_"
      ]
    },
    {
      "cell_type": "code",
      "source": [
        "df.groupby(\"lunch\")[[\"math score\", \"reading score\"]].mean().sort_values(by=\"math score\", ascending=False)"
      ],
      "metadata": {
        "colab": {
          "base_uri": "https://localhost:8080/",
          "height": 142
        },
        "id": "fgrrhQUmm4v8",
        "outputId": "ddc0ca28-122e-44a9-fb7f-b73bf952b4ae"
      },
      "id": "fgrrhQUmm4v8",
      "execution_count": 28,
      "outputs": [
        {
          "output_type": "execute_result",
          "data": {
            "text/plain": [
              "              math score  reading score\n",
              "lunch                                  \n",
              "standard       70.034109      71.654264\n",
              "free/reduced   58.921127      64.653521"
            ],
            "text/html": [
              "\n",
              "  <div id=\"df-7e737fe6-67c9-452e-aa44-c4ff1166604f\" class=\"colab-df-container\">\n",
              "    <div>\n",
              "<style scoped>\n",
              "    .dataframe tbody tr th:only-of-type {\n",
              "        vertical-align: middle;\n",
              "    }\n",
              "\n",
              "    .dataframe tbody tr th {\n",
              "        vertical-align: top;\n",
              "    }\n",
              "\n",
              "    .dataframe thead th {\n",
              "        text-align: right;\n",
              "    }\n",
              "</style>\n",
              "<table border=\"1\" class=\"dataframe\">\n",
              "  <thead>\n",
              "    <tr style=\"text-align: right;\">\n",
              "      <th></th>\n",
              "      <th>math score</th>\n",
              "      <th>reading score</th>\n",
              "    </tr>\n",
              "    <tr>\n",
              "      <th>lunch</th>\n",
              "      <th></th>\n",
              "      <th></th>\n",
              "    </tr>\n",
              "  </thead>\n",
              "  <tbody>\n",
              "    <tr>\n",
              "      <th>standard</th>\n",
              "      <td>70.034109</td>\n",
              "      <td>71.654264</td>\n",
              "    </tr>\n",
              "    <tr>\n",
              "      <th>free/reduced</th>\n",
              "      <td>58.921127</td>\n",
              "      <td>64.653521</td>\n",
              "    </tr>\n",
              "  </tbody>\n",
              "</table>\n",
              "</div>\n",
              "    <div class=\"colab-df-buttons\">\n",
              "\n",
              "  <div class=\"colab-df-container\">\n",
              "    <button class=\"colab-df-convert\" onclick=\"convertToInteractive('df-7e737fe6-67c9-452e-aa44-c4ff1166604f')\"\n",
              "            title=\"Convert this dataframe to an interactive table.\"\n",
              "            style=\"display:none;\">\n",
              "\n",
              "  <svg xmlns=\"http://www.w3.org/2000/svg\" height=\"24px\" viewBox=\"0 -960 960 960\">\n",
              "    <path d=\"M120-120v-720h720v720H120Zm60-500h600v-160H180v160Zm220 220h160v-160H400v160Zm0 220h160v-160H400v160ZM180-400h160v-160H180v160Zm440 0h160v-160H620v160ZM180-180h160v-160H180v160Zm440 0h160v-160H620v160Z\"/>\n",
              "  </svg>\n",
              "    </button>\n",
              "\n",
              "  <style>\n",
              "    .colab-df-container {\n",
              "      display:flex;\n",
              "      gap: 12px;\n",
              "    }\n",
              "\n",
              "    .colab-df-convert {\n",
              "      background-color: #E8F0FE;\n",
              "      border: none;\n",
              "      border-radius: 50%;\n",
              "      cursor: pointer;\n",
              "      display: none;\n",
              "      fill: #1967D2;\n",
              "      height: 32px;\n",
              "      padding: 0 0 0 0;\n",
              "      width: 32px;\n",
              "    }\n",
              "\n",
              "    .colab-df-convert:hover {\n",
              "      background-color: #E2EBFA;\n",
              "      box-shadow: 0px 1px 2px rgba(60, 64, 67, 0.3), 0px 1px 3px 1px rgba(60, 64, 67, 0.15);\n",
              "      fill: #174EA6;\n",
              "    }\n",
              "\n",
              "    .colab-df-buttons div {\n",
              "      margin-bottom: 4px;\n",
              "    }\n",
              "\n",
              "    [theme=dark] .colab-df-convert {\n",
              "      background-color: #3B4455;\n",
              "      fill: #D2E3FC;\n",
              "    }\n",
              "\n",
              "    [theme=dark] .colab-df-convert:hover {\n",
              "      background-color: #434B5C;\n",
              "      box-shadow: 0px 1px 3px 1px rgba(0, 0, 0, 0.15);\n",
              "      filter: drop-shadow(0px 1px 2px rgba(0, 0, 0, 0.3));\n",
              "      fill: #FFFFFF;\n",
              "    }\n",
              "  </style>\n",
              "\n",
              "    <script>\n",
              "      const buttonEl =\n",
              "        document.querySelector('#df-7e737fe6-67c9-452e-aa44-c4ff1166604f button.colab-df-convert');\n",
              "      buttonEl.style.display =\n",
              "        google.colab.kernel.accessAllowed ? 'block' : 'none';\n",
              "\n",
              "      async function convertToInteractive(key) {\n",
              "        const element = document.querySelector('#df-7e737fe6-67c9-452e-aa44-c4ff1166604f');\n",
              "        const dataTable =\n",
              "          await google.colab.kernel.invokeFunction('convertToInteractive',\n",
              "                                                    [key], {});\n",
              "        if (!dataTable) return;\n",
              "\n",
              "        const docLinkHtml = 'Like what you see? Visit the ' +\n",
              "          '<a target=\"_blank\" href=https://colab.research.google.com/notebooks/data_table.ipynb>data table notebook</a>'\n",
              "          + ' to learn more about interactive tables.';\n",
              "        element.innerHTML = '';\n",
              "        dataTable['output_type'] = 'display_data';\n",
              "        await google.colab.output.renderOutput(dataTable, element);\n",
              "        const docLink = document.createElement('div');\n",
              "        docLink.innerHTML = docLinkHtml;\n",
              "        element.appendChild(docLink);\n",
              "      }\n",
              "    </script>\n",
              "  </div>\n",
              "\n",
              "\n",
              "    <div id=\"df-bb91e133-c4af-4ddc-860d-13ef4075ae9f\">\n",
              "      <button class=\"colab-df-quickchart\" onclick=\"quickchart('df-bb91e133-c4af-4ddc-860d-13ef4075ae9f')\"\n",
              "                title=\"Suggest charts\"\n",
              "                style=\"display:none;\">\n",
              "\n",
              "<svg xmlns=\"http://www.w3.org/2000/svg\" height=\"24px\"viewBox=\"0 0 24 24\"\n",
              "     width=\"24px\">\n",
              "    <g>\n",
              "        <path d=\"M19 3H5c-1.1 0-2 .9-2 2v14c0 1.1.9 2 2 2h14c1.1 0 2-.9 2-2V5c0-1.1-.9-2-2-2zM9 17H7v-7h2v7zm4 0h-2V7h2v10zm4 0h-2v-4h2v4z\"/>\n",
              "    </g>\n",
              "</svg>\n",
              "      </button>\n",
              "\n",
              "<style>\n",
              "  .colab-df-quickchart {\n",
              "      --bg-color: #E8F0FE;\n",
              "      --fill-color: #1967D2;\n",
              "      --hover-bg-color: #E2EBFA;\n",
              "      --hover-fill-color: #174EA6;\n",
              "      --disabled-fill-color: #AAA;\n",
              "      --disabled-bg-color: #DDD;\n",
              "  }\n",
              "\n",
              "  [theme=dark] .colab-df-quickchart {\n",
              "      --bg-color: #3B4455;\n",
              "      --fill-color: #D2E3FC;\n",
              "      --hover-bg-color: #434B5C;\n",
              "      --hover-fill-color: #FFFFFF;\n",
              "      --disabled-bg-color: #3B4455;\n",
              "      --disabled-fill-color: #666;\n",
              "  }\n",
              "\n",
              "  .colab-df-quickchart {\n",
              "    background-color: var(--bg-color);\n",
              "    border: none;\n",
              "    border-radius: 50%;\n",
              "    cursor: pointer;\n",
              "    display: none;\n",
              "    fill: var(--fill-color);\n",
              "    height: 32px;\n",
              "    padding: 0;\n",
              "    width: 32px;\n",
              "  }\n",
              "\n",
              "  .colab-df-quickchart:hover {\n",
              "    background-color: var(--hover-bg-color);\n",
              "    box-shadow: 0 1px 2px rgba(60, 64, 67, 0.3), 0 1px 3px 1px rgba(60, 64, 67, 0.15);\n",
              "    fill: var(--button-hover-fill-color);\n",
              "  }\n",
              "\n",
              "  .colab-df-quickchart-complete:disabled,\n",
              "  .colab-df-quickchart-complete:disabled:hover {\n",
              "    background-color: var(--disabled-bg-color);\n",
              "    fill: var(--disabled-fill-color);\n",
              "    box-shadow: none;\n",
              "  }\n",
              "\n",
              "  .colab-df-spinner {\n",
              "    border: 2px solid var(--fill-color);\n",
              "    border-color: transparent;\n",
              "    border-bottom-color: var(--fill-color);\n",
              "    animation:\n",
              "      spin 1s steps(1) infinite;\n",
              "  }\n",
              "\n",
              "  @keyframes spin {\n",
              "    0% {\n",
              "      border-color: transparent;\n",
              "      border-bottom-color: var(--fill-color);\n",
              "      border-left-color: var(--fill-color);\n",
              "    }\n",
              "    20% {\n",
              "      border-color: transparent;\n",
              "      border-left-color: var(--fill-color);\n",
              "      border-top-color: var(--fill-color);\n",
              "    }\n",
              "    30% {\n",
              "      border-color: transparent;\n",
              "      border-left-color: var(--fill-color);\n",
              "      border-top-color: var(--fill-color);\n",
              "      border-right-color: var(--fill-color);\n",
              "    }\n",
              "    40% {\n",
              "      border-color: transparent;\n",
              "      border-right-color: var(--fill-color);\n",
              "      border-top-color: var(--fill-color);\n",
              "    }\n",
              "    60% {\n",
              "      border-color: transparent;\n",
              "      border-right-color: var(--fill-color);\n",
              "    }\n",
              "    80% {\n",
              "      border-color: transparent;\n",
              "      border-right-color: var(--fill-color);\n",
              "      border-bottom-color: var(--fill-color);\n",
              "    }\n",
              "    90% {\n",
              "      border-color: transparent;\n",
              "      border-bottom-color: var(--fill-color);\n",
              "    }\n",
              "  }\n",
              "</style>\n",
              "\n",
              "      <script>\n",
              "        async function quickchart(key) {\n",
              "          const quickchartButtonEl =\n",
              "            document.querySelector('#' + key + ' button');\n",
              "          quickchartButtonEl.disabled = true;  // To prevent multiple clicks.\n",
              "          quickchartButtonEl.classList.add('colab-df-spinner');\n",
              "          try {\n",
              "            const charts = await google.colab.kernel.invokeFunction(\n",
              "                'suggestCharts', [key], {});\n",
              "          } catch (error) {\n",
              "            console.error('Error during call to suggestCharts:', error);\n",
              "          }\n",
              "          quickchartButtonEl.classList.remove('colab-df-spinner');\n",
              "          quickchartButtonEl.classList.add('colab-df-quickchart-complete');\n",
              "        }\n",
              "        (() => {\n",
              "          let quickchartButtonEl =\n",
              "            document.querySelector('#df-bb91e133-c4af-4ddc-860d-13ef4075ae9f button');\n",
              "          quickchartButtonEl.style.display =\n",
              "            google.colab.kernel.accessAllowed ? 'block' : 'none';\n",
              "        })();\n",
              "      </script>\n",
              "    </div>\n",
              "\n",
              "    </div>\n",
              "  </div>\n"
            ],
            "application/vnd.google.colaboratory.intrinsic+json": {
              "type": "dataframe",
              "summary": "{\n  \"name\": \"df\",\n  \"rows\": 2,\n  \"fields\": [\n    {\n      \"column\": \"lunch\",\n      \"properties\": {\n        \"dtype\": \"string\",\n        \"num_unique_values\": 2,\n        \"samples\": [\n          \"free/reduced\",\n          \"standard\"\n        ],\n        \"semantic_type\": \"\",\n        \"description\": \"\"\n      }\n    },\n    {\n      \"column\": \"math score\",\n      \"properties\": {\n        \"dtype\": \"number\",\n        \"std\": 7.858064766342971,\n        \"min\": 58.92112676056338,\n        \"max\": 70.03410852713178,\n        \"num_unique_values\": 2,\n        \"samples\": [\n          58.92112676056338,\n          70.03410852713178\n        ],\n        \"semantic_type\": \"\",\n        \"description\": \"\"\n      }\n    },\n    {\n      \"column\": \"reading score\",\n      \"properties\": {\n        \"dtype\": \"number\",\n        \"std\": 4.950272452049912,\n        \"min\": 64.65352112676057,\n        \"max\": 71.65426356589147,\n        \"num_unique_values\": 2,\n        \"samples\": [\n          64.65352112676057,\n          71.65426356589147\n        ],\n        \"semantic_type\": \"\",\n        \"description\": \"\"\n      }\n    }\n  ]\n}"
            }
          },
          "metadata": {},
          "execution_count": 28
        }
      ]
    },
    {
      "cell_type": "markdown",
      "source": [
        "Se podría implementar un programa de mejor calidad con alimentos más nutritivos para quienes reciben lunch free/reduced, ya que la calidad de la dieta es un factor que influye en el promedio de los estudiantes"
      ],
      "metadata": {
        "id": "nXqmWbqKncOB"
      },
      "id": "nXqmWbqKncOB"
    },
    {
      "cell_type": "markdown",
      "id": "1cc05360",
      "metadata": {
        "id": "1cc05360"
      },
      "source": [
        "### B10. Educación parental y rendimiento\n",
        "Agrupa por `parental level of education` y calcula el **promedio de `math score`**.\n",
        "- ¿Qué nivel se asocia con mejores resultados?\n",
        "- **Acción**: ¿qué intervención o programa harías basado en esto?\n",
        "\n",
        "_Escribe tu código y comentarios:_"
      ]
    },
    {
      "cell_type": "code",
      "execution_count": 24,
      "id": "626c2260",
      "metadata": {
        "id": "626c2260",
        "colab": {
          "base_uri": "https://localhost:8080/",
          "height": 300
        },
        "outputId": "9fad8faf-7820-4400-e7cc-6cd5520a30f7"
      },
      "outputs": [
        {
          "output_type": "execute_result",
          "data": {
            "text/plain": [
              "parental level of education\n",
              "master's degree       69.745763\n",
              "bachelor's degree     69.389831\n",
              "associate's degree    67.882883\n",
              "some college          67.128319\n",
              "some high school      63.497207\n",
              "high school           62.137755\n",
              "Name: math score, dtype: float64"
            ],
            "text/html": [
              "<div>\n",
              "<style scoped>\n",
              "    .dataframe tbody tr th:only-of-type {\n",
              "        vertical-align: middle;\n",
              "    }\n",
              "\n",
              "    .dataframe tbody tr th {\n",
              "        vertical-align: top;\n",
              "    }\n",
              "\n",
              "    .dataframe thead th {\n",
              "        text-align: right;\n",
              "    }\n",
              "</style>\n",
              "<table border=\"1\" class=\"dataframe\">\n",
              "  <thead>\n",
              "    <tr style=\"text-align: right;\">\n",
              "      <th></th>\n",
              "      <th>math score</th>\n",
              "    </tr>\n",
              "    <tr>\n",
              "      <th>parental level of education</th>\n",
              "      <th></th>\n",
              "    </tr>\n",
              "  </thead>\n",
              "  <tbody>\n",
              "    <tr>\n",
              "      <th>master's degree</th>\n",
              "      <td>69.745763</td>\n",
              "    </tr>\n",
              "    <tr>\n",
              "      <th>bachelor's degree</th>\n",
              "      <td>69.389831</td>\n",
              "    </tr>\n",
              "    <tr>\n",
              "      <th>associate's degree</th>\n",
              "      <td>67.882883</td>\n",
              "    </tr>\n",
              "    <tr>\n",
              "      <th>some college</th>\n",
              "      <td>67.128319</td>\n",
              "    </tr>\n",
              "    <tr>\n",
              "      <th>some high school</th>\n",
              "      <td>63.497207</td>\n",
              "    </tr>\n",
              "    <tr>\n",
              "      <th>high school</th>\n",
              "      <td>62.137755</td>\n",
              "    </tr>\n",
              "  </tbody>\n",
              "</table>\n",
              "</div><br><label><b>dtype:</b> float64</label>"
            ]
          },
          "metadata": {},
          "execution_count": 24
        }
      ],
      "source": [
        "df.groupby(\"parental level of education\")[\"math score\"].mean().sort_values(ascending=False)"
      ]
    },
    {
      "cell_type": "markdown",
      "source": [
        "Se podria implementar un programa de apoyo extra en matemáticas para estudiantes cuyos padres tienen menor nivel educativo, por ejemplo tutorías gratuitas o talleres de refuerzo, para reducir la brecha de rendimiento"
      ],
      "metadata": {
        "id": "DagI01g7mtQh"
      },
      "id": "DagI01g7mtQh"
    },
    {
      "cell_type": "markdown",
      "id": "1dd7725d",
      "metadata": {
        "id": "1dd7725d"
      },
      "source": [
        "### B11. Curso de preparación y puntaje\n",
        "Filtra estudiantes que **completaron** `test preparation course` y calcula el **promedio de `math score`**. Compáralo con quienes **no** lo completaron.\n",
        "- **Decisión**: ¿financiarías este curso? Explica.\n",
        "\n",
        "_Escribe tu código y comentarios:_"
      ]
    },
    {
      "cell_type": "code",
      "execution_count": 29,
      "id": "9141333d",
      "metadata": {
        "id": "9141333d",
        "colab": {
          "base_uri": "https://localhost:8080/",
          "height": 176
        },
        "outputId": "fabbc738-e2c3-41e8-d2aa-82b9aa47dab1"
      },
      "outputs": [
        {
          "output_type": "execute_result",
          "data": {
            "text/plain": [
              "test preparation course\n",
              "completed    69.695531\n",
              "none         64.077882\n",
              "Name: math score, dtype: float64"
            ],
            "text/html": [
              "<div>\n",
              "<style scoped>\n",
              "    .dataframe tbody tr th:only-of-type {\n",
              "        vertical-align: middle;\n",
              "    }\n",
              "\n",
              "    .dataframe tbody tr th {\n",
              "        vertical-align: top;\n",
              "    }\n",
              "\n",
              "    .dataframe thead th {\n",
              "        text-align: right;\n",
              "    }\n",
              "</style>\n",
              "<table border=\"1\" class=\"dataframe\">\n",
              "  <thead>\n",
              "    <tr style=\"text-align: right;\">\n",
              "      <th></th>\n",
              "      <th>math score</th>\n",
              "    </tr>\n",
              "    <tr>\n",
              "      <th>test preparation course</th>\n",
              "      <th></th>\n",
              "    </tr>\n",
              "  </thead>\n",
              "  <tbody>\n",
              "    <tr>\n",
              "      <th>completed</th>\n",
              "      <td>69.695531</td>\n",
              "    </tr>\n",
              "    <tr>\n",
              "      <th>none</th>\n",
              "      <td>64.077882</td>\n",
              "    </tr>\n",
              "  </tbody>\n",
              "</table>\n",
              "</div><br><label><b>dtype:</b> float64</label>"
            ]
          },
          "metadata": {},
          "execution_count": 29
        }
      ],
      "source": [
        "df.groupby(\"test preparation course\")[\"math score\"].mean().sort_values(ascending=False)"
      ]
    },
    {
      "cell_type": "markdown",
      "source": [
        "Si seguiria financiando el curso ya que aunque la brecha es pequeña si se ve una mejora en el promedio de los estudiantes y pondria mas bien como objetivo que el mayor numero de estudiantes lo termine para obtener un promedio general mucho mas alto"
      ],
      "metadata": {
        "id": "MagvXZ4NoGdk"
      },
      "id": "MagvXZ4NoGdk"
    },
    {
      "cell_type": "markdown",
      "id": "aa4a861b",
      "metadata": {
        "id": "aa4a861b"
      },
      "source": [
        "### B12. Doble agrupación (negocio)\n",
        "Crea una **tabla** agrupada por `gender` y `test preparation course` con el **promedio de `writing score`**.\n",
        "- ¿Qué combinación muestra mejores resultados?\n",
        "- **Recomendación**: ¿a quién priorizas para una beca del curso?\n",
        "\n",
        "_Escribe tu código y comentarios:_"
      ]
    },
    {
      "cell_type": "code",
      "execution_count": 30,
      "id": "714de25f",
      "metadata": {
        "id": "714de25f",
        "colab": {
          "base_uri": "https://localhost:8080/",
          "height": 238
        },
        "outputId": "27381eb5-7e85-4f05-cd4b-19453e683e7b"
      },
      "outputs": [
        {
          "output_type": "execute_result",
          "data": {
            "text/plain": [
              "gender  test preparation course\n",
              "female  completed                  78.793478\n",
              "male    completed                  69.793103\n",
              "female  none                       68.982036\n",
              "male    none                       59.649351\n",
              "Name: writing score, dtype: float64"
            ],
            "text/html": [
              "<div>\n",
              "<style scoped>\n",
              "    .dataframe tbody tr th:only-of-type {\n",
              "        vertical-align: middle;\n",
              "    }\n",
              "\n",
              "    .dataframe tbody tr th {\n",
              "        vertical-align: top;\n",
              "    }\n",
              "\n",
              "    .dataframe thead th {\n",
              "        text-align: right;\n",
              "    }\n",
              "</style>\n",
              "<table border=\"1\" class=\"dataframe\">\n",
              "  <thead>\n",
              "    <tr style=\"text-align: right;\">\n",
              "      <th></th>\n",
              "      <th></th>\n",
              "      <th>writing score</th>\n",
              "    </tr>\n",
              "    <tr>\n",
              "      <th>gender</th>\n",
              "      <th>test preparation course</th>\n",
              "      <th></th>\n",
              "    </tr>\n",
              "  </thead>\n",
              "  <tbody>\n",
              "    <tr>\n",
              "      <th>female</th>\n",
              "      <th>completed</th>\n",
              "      <td>78.793478</td>\n",
              "    </tr>\n",
              "    <tr>\n",
              "      <th>male</th>\n",
              "      <th>completed</th>\n",
              "      <td>69.793103</td>\n",
              "    </tr>\n",
              "    <tr>\n",
              "      <th>female</th>\n",
              "      <th>none</th>\n",
              "      <td>68.982036</td>\n",
              "    </tr>\n",
              "    <tr>\n",
              "      <th>male</th>\n",
              "      <th>none</th>\n",
              "      <td>59.649351</td>\n",
              "    </tr>\n",
              "  </tbody>\n",
              "</table>\n",
              "</div><br><label><b>dtype:</b> float64</label>"
            ]
          },
          "metadata": {},
          "execution_count": 30
        }
      ],
      "source": [
        "df.groupby([\"gender\", \"test preparation course\"])[\"writing score\"].mean().sort_values(ascending=False)"
      ]
    },
    {
      "cell_type": "markdown",
      "source": [
        "Teniendo en cuenta estos resultados priorizaria una beca para las mujeres que hayan completado el test ya que son las que presentan un promedio de escritura mas alto"
      ],
      "metadata": {
        "id": "v67lAFnbo6JI"
      },
      "id": "v67lAFnbo6JI"
    }
  ],
  "metadata": {
    "kernelspec": {
      "display_name": "Python 3",
      "language": "python",
      "name": "python3"
    },
    "language_info": {
      "name": "python",
      "version": "3.x"
    },
    "colab": {
      "provenance": []
    }
  },
  "nbformat": 4,
  "nbformat_minor": 5
}